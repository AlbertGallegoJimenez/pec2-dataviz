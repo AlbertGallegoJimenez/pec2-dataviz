{
 "cells": [
  {
   "cell_type": "markdown",
   "metadata": {},
   "source": [
    "# PYRAMID CHART 📊\n",
    "## EVOLUTION OF POPULATION PYRAMID IN SPAIN (1971-2024)\n",
    "\n",
    "*Data sources:*\n",
    "- Population: https://www.ine.es/jaxiT3/Tabla.htm?t=56934\n",
    "- Life expectancy: https://datosmacro.expansion.com/demografia/esperanza-vida/espana"
   ]
  },
  {
   "cell_type": "code",
   "execution_count": 1,
   "metadata": {},
   "outputs": [],
   "source": [
    "# Import necessary libraries\n",
    "import pandas as pd\n",
    "import matplotlib.pyplot as plt\n",
    "import numpy as np\n",
    "import matplotlib.patheffects as pe\n",
    "import matplotlib.font_manager as fm\n",
    "import re\n",
    "import imageio\n",
    "import os"
   ]
  },
  {
   "cell_type": "code",
   "execution_count": 2,
   "metadata": {},
   "outputs": [
    {
     "name": "stdout",
     "output_type": "stream",
     "text": [
      "The size of the dataframe is: (69651, 4)\n"
     ]
    }
   ],
   "source": [
    "# Load the population data from a CSV file\n",
    "df = pd.read_csv('data/raw_pop_data.csv', sep=';')\n",
    "df = df.rename(columns={\"Edad simple\": \"Edad\"})\n",
    "\n",
    "# Print the size of the dataframe\n",
    "print(f\"The size of the dataframe is: {df.shape}\")"
   ]
  },
  {
   "cell_type": "code",
   "execution_count": 3,
   "metadata": {},
   "outputs": [
    {
     "data": {
      "application/vnd.microsoft.datawrangler.viewer.v0+json": {
       "columns": [
        {
         "name": "index",
         "rawType": "int64",
         "type": "integer"
        },
        {
         "name": "Edad",
         "rawType": "object",
         "type": "string"
        },
        {
         "name": "Sexo",
         "rawType": "object",
         "type": "string"
        },
        {
         "name": "Periodo",
         "rawType": "object",
         "type": "string"
        },
        {
         "name": "Total",
         "rawType": "object",
         "type": "string"
        }
       ],
       "conversionMethod": "pd.DataFrame",
       "ref": "01429d4d-9d8d-4937-ab8e-2156fdafed70",
       "rows": [
        [
         "0",
         "Todas las edades",
         "Total",
         "1 de enero de 2024",
         "48.619.695"
        ],
        [
         "1",
         "Todas las edades",
         "Total",
         "1 de octubre de 2023",
         "48.486.865"
        ],
        [
         "2",
         "Todas las edades",
         "Total",
         "1 de julio de 2023",
         "48.320.520"
        ],
        [
         "3",
         "Todas las edades",
         "Total",
         "1 de abril de 2023",
         "48.205.962"
        ],
        [
         "4",
         "Todas las edades",
         "Total",
         "1 de enero de 2023",
         "48.085.361"
        ]
       ],
       "shape": {
        "columns": 4,
        "rows": 5
       }
      },
      "text/html": [
       "<div>\n",
       "<style scoped>\n",
       "    .dataframe tbody tr th:only-of-type {\n",
       "        vertical-align: middle;\n",
       "    }\n",
       "\n",
       "    .dataframe tbody tr th {\n",
       "        vertical-align: top;\n",
       "    }\n",
       "\n",
       "    .dataframe thead th {\n",
       "        text-align: right;\n",
       "    }\n",
       "</style>\n",
       "<table border=\"1\" class=\"dataframe\">\n",
       "  <thead>\n",
       "    <tr style=\"text-align: right;\">\n",
       "      <th></th>\n",
       "      <th>Edad</th>\n",
       "      <th>Sexo</th>\n",
       "      <th>Periodo</th>\n",
       "      <th>Total</th>\n",
       "    </tr>\n",
       "  </thead>\n",
       "  <tbody>\n",
       "    <tr>\n",
       "      <th>0</th>\n",
       "      <td>Todas las edades</td>\n",
       "      <td>Total</td>\n",
       "      <td>1 de enero de 2024</td>\n",
       "      <td>48.619.695</td>\n",
       "    </tr>\n",
       "    <tr>\n",
       "      <th>1</th>\n",
       "      <td>Todas las edades</td>\n",
       "      <td>Total</td>\n",
       "      <td>1 de octubre de 2023</td>\n",
       "      <td>48.486.865</td>\n",
       "    </tr>\n",
       "    <tr>\n",
       "      <th>2</th>\n",
       "      <td>Todas las edades</td>\n",
       "      <td>Total</td>\n",
       "      <td>1 de julio de 2023</td>\n",
       "      <td>48.320.520</td>\n",
       "    </tr>\n",
       "    <tr>\n",
       "      <th>3</th>\n",
       "      <td>Todas las edades</td>\n",
       "      <td>Total</td>\n",
       "      <td>1 de abril de 2023</td>\n",
       "      <td>48.205.962</td>\n",
       "    </tr>\n",
       "    <tr>\n",
       "      <th>4</th>\n",
       "      <td>Todas las edades</td>\n",
       "      <td>Total</td>\n",
       "      <td>1 de enero de 2023</td>\n",
       "      <td>48.085.361</td>\n",
       "    </tr>\n",
       "  </tbody>\n",
       "</table>\n",
       "</div>"
      ],
      "text/plain": [
       "               Edad   Sexo               Periodo       Total\n",
       "0  Todas las edades  Total    1 de enero de 2024  48.619.695\n",
       "1  Todas las edades  Total  1 de octubre de 2023  48.486.865\n",
       "2  Todas las edades  Total    1 de julio de 2023  48.320.520\n",
       "3  Todas las edades  Total    1 de abril de 2023  48.205.962\n",
       "4  Todas las edades  Total    1 de enero de 2023  48.085.361"
      ]
     },
     "execution_count": 3,
     "metadata": {},
     "output_type": "execute_result"
    }
   ],
   "source": [
    "# Show the first few rows of the dataframe\n",
    "df.head()"
   ]
  },
  {
   "cell_type": "code",
   "execution_count": 4,
   "metadata": {},
   "outputs": [],
   "source": [
    "# Load life expectancy data from a CSV file\n",
    "life_exp = pd.read_csv('data/life_expectancy.csv', sep='\\t')\n",
    "# Remove unnecessary columns\n",
    "life_exp = life_exp[[\"Año\", \"Esperanza de vida\"]]\n",
    "# Sort the data by year\n",
    "life_exp = life_exp.sort_values(by=\"Año\")\n",
    "\n",
    "# Extrapolate the data for the missing year 2024 by using linear interpolation with the last 5 years of data\n",
    "# Get the last 5 years of data\n",
    "last_5_years = life_exp.tail(5)\n",
    "\n",
    "# Calculate the average annual increase over the last 5 years\n",
    "avg_annual_increase = (last_5_years[\"Esperanza de vida\"].iloc[-1] - last_5_years[\"Esperanza de vida\"].iloc[0]) / 4\n",
    "\n",
    "# Get the last known year and life expectancy\n",
    "last_year = life_exp[\"Año\"].max()\n",
    "last_life_exp = life_exp.loc[life_exp[\"Año\"] == last_year, \"Esperanza de vida\"].values[0]\n",
    "\n",
    "# Add a new row for 2024\n",
    "years_to_extrapolate = 2024 - last_year\n",
    "extrapolated_value = last_life_exp + (avg_annual_increase * years_to_extrapolate)\n",
    "life_exp = pd.concat([life_exp, pd.DataFrame({\"Año\": [2024], \"Esperanza de vida\": [extrapolated_value]})], ignore_index=True)"
   ]
  },
  {
   "cell_type": "code",
   "execution_count": 5,
   "metadata": {},
   "outputs": [],
   "source": [
    "# Remove the rows with \"Total\" values in the \"Sexo\" column\n",
    "df = df[df['Sexo'] != 'Total']\n",
    "\n",
    "# Remove the rows with \"Todas las edades\" values in the \"Edad\" column\n",
    "df = df[df['Edad'] != 'Todas las edades']\n",
    "\n",
    "# Remove all non \"enero\" values in the \"Periodo\" column\n",
    "df = df[df['Periodo'].str.contains('enero')]\n",
    "\n",
    "# Remove the \"1 de enero de \" prefix from the \"Periodo\" column and convert it to integer\n",
    "df[\"Periodo\"] = df[\"Periodo\"].str.replace(\"1 de enero de \", \"\").astype(int)\n",
    "\n",
    "# Get the integer part of the \"Edad\" column\n",
    "df[\"Edad\"] = df[\"Edad\"].str.extract(r'(\\d+)').astype(int)\n",
    "\n",
    "# Replace dots with empty strings in the \"Total\" column and convert it to integer\n",
    "# Handle NaN and empty string values before conversion\n",
    "df[\"Total\"] = df[\"Total\"].str.replace(\".\", \"\", regex=False)\n",
    "df[\"Total\"] = pd.to_numeric(df[\"Total\"], errors='coerce').fillna(0).astype(int)\n",
    "\n",
    "# Multiply the \"Total\" column for \"Mujeres\" by *-1\n",
    "df.loc[df[\"Sexo\"] == \"Mujeres\", \"Total\"] *= -1\n",
    "\n",
    "# Sort the dataframe by \"Periodo\" and \"Edad\"\n",
    "df = df.sort_values(by=[\"Periodo\", \"Edad\"])"
   ]
  },
  {
   "cell_type": "code",
   "execution_count": 6,
   "metadata": {},
   "outputs": [
    {
     "data": {
      "application/vnd.microsoft.datawrangler.viewer.v0+json": {
       "columns": [
        {
         "name": "index",
         "rawType": "int64",
         "type": "integer"
        },
        {
         "name": "Edad",
         "rawType": "int32",
         "type": "integer"
        },
        {
         "name": "Sexo",
         "rawType": "object",
         "type": "string"
        },
        {
         "name": "Periodo",
         "rawType": "int32",
         "type": "integer"
        },
        {
         "name": "Total",
         "rawType": "int32",
         "type": "integer"
        }
       ],
       "conversionMethod": "pd.DataFrame",
       "ref": "9898ba53-5c60-4241-895c-71c0b454ebdf",
       "rows": [
        [
         "1064",
         "0",
         "Hombres",
         "1971",
         "332704"
        ],
        [
         "1277",
         "0",
         "Mujeres",
         "1971",
         "-314740"
        ],
        [
         "1703",
         "1",
         "Hombres",
         "1971",
         "322690"
        ],
        [
         "1916",
         "1",
         "Mujeres",
         "1971",
         "-306134"
        ],
        [
         "2342",
         "2",
         "Hombres",
         "1971",
         "326470"
        ]
       ],
       "shape": {
        "columns": 4,
        "rows": 5
       }
      },
      "text/html": [
       "<div>\n",
       "<style scoped>\n",
       "    .dataframe tbody tr th:only-of-type {\n",
       "        vertical-align: middle;\n",
       "    }\n",
       "\n",
       "    .dataframe tbody tr th {\n",
       "        vertical-align: top;\n",
       "    }\n",
       "\n",
       "    .dataframe thead th {\n",
       "        text-align: right;\n",
       "    }\n",
       "</style>\n",
       "<table border=\"1\" class=\"dataframe\">\n",
       "  <thead>\n",
       "    <tr style=\"text-align: right;\">\n",
       "      <th></th>\n",
       "      <th>Edad</th>\n",
       "      <th>Sexo</th>\n",
       "      <th>Periodo</th>\n",
       "      <th>Total</th>\n",
       "    </tr>\n",
       "  </thead>\n",
       "  <tbody>\n",
       "    <tr>\n",
       "      <th>1064</th>\n",
       "      <td>0</td>\n",
       "      <td>Hombres</td>\n",
       "      <td>1971</td>\n",
       "      <td>332704</td>\n",
       "    </tr>\n",
       "    <tr>\n",
       "      <th>1277</th>\n",
       "      <td>0</td>\n",
       "      <td>Mujeres</td>\n",
       "      <td>1971</td>\n",
       "      <td>-314740</td>\n",
       "    </tr>\n",
       "    <tr>\n",
       "      <th>1703</th>\n",
       "      <td>1</td>\n",
       "      <td>Hombres</td>\n",
       "      <td>1971</td>\n",
       "      <td>322690</td>\n",
       "    </tr>\n",
       "    <tr>\n",
       "      <th>1916</th>\n",
       "      <td>1</td>\n",
       "      <td>Mujeres</td>\n",
       "      <td>1971</td>\n",
       "      <td>-306134</td>\n",
       "    </tr>\n",
       "    <tr>\n",
       "      <th>2342</th>\n",
       "      <td>2</td>\n",
       "      <td>Hombres</td>\n",
       "      <td>1971</td>\n",
       "      <td>326470</td>\n",
       "    </tr>\n",
       "  </tbody>\n",
       "</table>\n",
       "</div>"
      ],
      "text/plain": [
       "      Edad     Sexo  Periodo   Total\n",
       "1064     0  Hombres     1971  332704\n",
       "1277     0  Mujeres     1971 -314740\n",
       "1703     1  Hombres     1971  322690\n",
       "1916     1  Mujeres     1971 -306134\n",
       "2342     2  Hombres     1971  326470"
      ]
     },
     "execution_count": 6,
     "metadata": {},
     "output_type": "execute_result"
    }
   ],
   "source": [
    "# Check the first few rows of the cleaned dataframe\n",
    "df.head()"
   ]
  },
  {
   "cell_type": "code",
   "execution_count": 7,
   "metadata": {},
   "outputs": [],
   "source": [
    "# Set the range of years for the boomer generation\n",
    "boomer_years = range(1958, 1977)\n",
    "\n",
    "# Set the color palette for the pyramid chart\n",
    "color_men = \"#E6B89C\"\n",
    "color_women = \"#554971\"\n",
    "\n",
    "# Set the maximum total value for the x-axis limits\n",
    "max_total = int(np.ceil(abs(df.loc[df[\"Edad\"] < 84, \"Total\"]).max() / 10_000) * 10_000)\n",
    "\n",
    "# Iterate over the years in the dataframe\n",
    "for year in range(df[\"Periodo\"].min(), df[\"Periodo\"].max() + 1):\n",
    "\n",
    "        # Filter the dataframe for the specified year\n",
    "        df_year = df[df[\"Periodo\"] == year].copy()\n",
    "        \n",
    "        # Set nan the values of the \"Total\" column for the age group 85\n",
    "        df_year.loc[df_year[\"Edad\"] == 85, \"Total\"] = np.nan\n",
    "        # As 85 age is repeated, we remove the duplicates\n",
    "        df_year = df_year.drop_duplicates(subset=[\"Sexo\", \"Edad\"])\n",
    "\n",
    "        # Prepare separate dataframes for men and women\n",
    "        men = df_year[df_year[\"Sexo\"] == \"Hombres\"].copy()\n",
    "        women = df_year[df_year[\"Sexo\"] == \"Mujeres\"].copy()\n",
    "        \n",
    "        # Interpolate the missing values for the age group 85\n",
    "        men[\"Total\"] = men[\"Total\"].interpolate(method='linear', limit_direction='both')\n",
    "        women[\"Total\"] = women[\"Total\"].interpolate(method='linear', limit_direction='both')\n",
    "\n",
    "        # Create the pyramid chart\n",
    "        fig, ax = plt.subplots(figsize=(9, 8))\n",
    "\n",
    "        # Calculate birth years based on the current year and age\n",
    "        men['Birth_Year'] = year - men[\"Edad\"]\n",
    "        women['Birth_Year'] = year - women[\"Edad\"]\n",
    "\n",
    "        # Plot men bars with different transparency for boomers vs non-boomers\n",
    "        for _, row in men.iterrows():\n",
    "                alpha = 1.0 if row['Birth_Year'] in boomer_years else 0.7\n",
    "                ax.barh(row[\"Edad\"], row[\"Total\"], height=1,\n",
    "                        color=color_men, alpha=alpha, zorder=2)\n",
    "\n",
    "        # Plot women bars with different transparency for boomers vs non-boomers\n",
    "        for _, row in women.iterrows():\n",
    "                alpha = 1.0 if row['Birth_Year'] in boomer_years else 0.7\n",
    "                ax.barh(row[\"Edad\"], row[\"Total\"], height=1,\n",
    "                        color=color_women, alpha=alpha, zorder=2)\n",
    "\n",
    "        # Get the life expectancy for the specified year\n",
    "        life_exp_year = life_exp[life_exp[\"Año\"] == year][\"Esperanza de vida\"].values[0]\n",
    "        # Plot the life expectancy line\n",
    "        ax.axhline(y=life_exp_year, color='red', lw=0.75)\n",
    "        # Plot previous life expectancy lines in gray\n",
    "        for _, row in life_exp[life_exp[\"Año\"] < year].iterrows():\n",
    "                ax.axhline(y=row[\"Esperanza de vida\"], color='gray', lw=0.5, alpha=0.4, zorder=1)\n",
    "                \n",
    "        # Set the background color to light gray\n",
    "        ax.set_facecolor((0.9, 0.9, 0.9, 0.7))\n",
    "\n",
    "        # Add labels and customize the chart\n",
    "        ax.set_xlabel(\"Población\")\n",
    "        ax.set_ylabel(\"Edad\")\n",
    "        ax.set_title(r\"$\\bf{Transformación\\ Demográfica\\ en\\ España:}$\" + \n",
    "                     \"\\nEvolución de la Pirámide Poblacional a lo Largo del Tiempo\",\n",
    "                     horizontalalignment=\"left\",\n",
    "                     x=-0,\n",
    "                     y=1.075,\n",
    "                     fontsize=14)\n",
    "        ax.grid(axis=\"x\", linestyle=\"--\")\n",
    "\n",
    "        # Add label for life expectancy\n",
    "        ax.text(0.15, life_exp_year + 0.5,\n",
    "                f\"Esperanza de vida: {life_exp_year:.1f} años\",\n",
    "                ha=\"center\", color=\"red\", fontsize=8,\n",
    "                transform=ax.get_yaxis_transform())\n",
    "\n",
    "        # Add genders labels\n",
    "        ax.text(0.25, 1.025, \"Mujeres\", ha=\"center\", color=color_women,\n",
    "                        va=\"center\", transform=ax.transAxes, fontsize=10, weight=\"bold\")\n",
    "        ax.text(0.75, 1.025, \"Hombres\", ha=\"center\", color=color_men,\n",
    "                        va=\"center\", transform=ax.transAxes, fontsize=10, weight=\"bold\")\n",
    "\n",
    "        # Add label for boomer generation\n",
    "        boomer_mid_age = year - sum(boomer_years) // len(boomer_years)\n",
    "        ax.text(0.5, boomer_mid_age, \"Generación\\nBaby Boom\", ha=\"center\", \n",
    "                path_effects=[pe.withStroke(linewidth=3, foreground='white')],\n",
    "                va=\"center\", fontsize=9, weight=\"bold\")\n",
    "\n",
    "        # Add year label\n",
    "        ax.text(0.95, 0.95, f\"{year}\", ha=\"right\", va=\"top\",\n",
    "                path_effects=[pe.withStroke(linewidth=6, foreground='white')],\n",
    "                transform=ax.transAxes, fontsize=24, weight=\"bold\")\n",
    "\n",
    "        # Add a text for the source of the data\n",
    "        ax.text(1, -0.1,\n",
    "                r'$\\it{Fuentes\\ de\\ datos:\\ INE\\ y\\ datos.macro}$',\n",
    "                ha=\"right\", va=\"center\", transform=ax.transAxes, fontsize=8)\n",
    "\n",
    "        # Fix x-axis to show absolute values with ticks on both sides       \n",
    "        # Set the x-axis limits symmetrically\n",
    "        ax.set_xlim(-max_total, max_total)\n",
    "\n",
    "        # Define tick positions (including 0 in the middle)\n",
    "        num_ticks = 3  # Number of ticks on each side\n",
    "        tick_positions = np.linspace(-max_total, max_total, 2 * num_ticks + 1, dtype=int)\n",
    "\n",
    "        # Set ticks\n",
    "        ax.set_xticks(tick_positions)\n",
    "\n",
    "        # Convert tick labels to absolute values in millions\n",
    "        tick_labels = [f'{int(abs(x)/1e3):.0f} mil' if x != 0 else '0' for x in tick_positions]\n",
    "\n",
    "        # Apply labels\n",
    "        ax.set_xticklabels(tick_labels)\n",
    "\n",
    "        # Add a vertical line at x=0\n",
    "        ax.axvline(x=0, color='black', linestyle='-', lw=1)\n",
    "        \n",
    "        # Save the figure with a dynamic filename\n",
    "        plt.savefig(f\"plots/pyramid_{year}.png\", dpi=300, bbox_inches='tight')\n",
    "        plt.close(fig)"
   ]
  },
  {
   "cell_type": "code",
   "execution_count": 8,
   "metadata": {},
   "outputs": [
    {
     "name": "stderr",
     "output_type": "stream",
     "text": [
      "C:\\Users\\gallegoa\\AppData\\Local\\Temp\\ipykernel_31864\\1759274605.py:13: DeprecationWarning: Starting with ImageIO v3 the behavior of this function will switch to that of iio.v3.imread. To keep the current behavior (and make this warning disappear) use `import imageio.v2 as imageio` or call `imageio.v2.imread` directly.\n",
      "  images.append(imageio.imread(filepath))\n"
     ]
    }
   ],
   "source": [
    "# Create a GIF from the saved images\n",
    "\n",
    "# Get the list of image files\n",
    "image_files = sorted([f for f in os.listdir(\"plots\") if f.endswith(\".png\")],\n",
    "                     key=lambda x: int(re.search(r'_(\\d+)', x).group(1)))\n",
    "\n",
    "# Create a list to hold the images\n",
    "images = []\n",
    "\n",
    "# Read each image and append it to the list\n",
    "for filename in image_files:\n",
    "    filepath = os.path.join(\"plots\", filename)\n",
    "    images.append(imageio.imread(filepath))\n",
    "\n",
    "# Save the images as a GIF\n",
    "imageio.mimsave('plots/pop_pyramid_evolution.gif', images, duration=0.1, loop=0)\n",
    "\n",
    "# Delete the individual images after creating the GIF\n",
    "for filename in image_files:\n",
    "    os.remove(os.path.join(\"plots\", filename))"
   ]
  }
 ],
 "metadata": {
  "kernelspec": {
   "display_name": "prog_datasci",
   "language": "python",
   "name": "python3"
  },
  "language_info": {
   "codemirror_mode": {
    "name": "ipython",
    "version": 3
   },
   "file_extension": ".py",
   "mimetype": "text/x-python",
   "name": "python",
   "nbconvert_exporter": "python",
   "pygments_lexer": "ipython3",
   "version": "3.10.16"
  }
 },
 "nbformat": 4,
 "nbformat_minor": 2
}
