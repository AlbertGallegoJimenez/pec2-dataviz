{
 "cells": [
  {
   "cell_type": "markdown",
   "metadata": {},
   "source": [
    "# RIDGELINE CHART 📊\n",
    "## TEMPERATURE AND CUM. PRECIPITATION DISTRIBUTIONS FOR DIFFERENT CITIES IN SPAIN IN 2024\n",
    "\n",
    "*Data source:*\n",
    "https://open-meteo.com/"
   ]
  },
  {
   "cell_type": "code",
   "execution_count": 1,
   "metadata": {
    "vscode": {
     "languageId": "r"
    }
   },
   "outputs": [
    {
     "name": "stderr",
     "output_type": "stream",
     "text": [
      "\n",
      "Adjuntando el paquete: 'dplyr'\n",
      "\n",
      "\n",
      "The following objects are masked from 'package:stats':\n",
      "\n",
      "    filter, lag\n",
      "\n",
      "\n",
      "The following objects are masked from 'package:base':\n",
      "\n",
      "    intersect, setdiff, setequal, union\n",
      "\n",
      "\n",
      "\u001b[1mRows: \u001b[22m\u001b[34m366\u001b[39m \u001b[1mColumns: \u001b[22m\u001b[34m3\u001b[39m\n",
      "\u001b[36m──\u001b[39m \u001b[1mColumn specification\u001b[22m \u001b[36m────────────────────────────────────────────────────────\u001b[39m\n",
      "\u001b[1mDelimiter:\u001b[22m \",\"\n",
      "\u001b[32mdbl\u001b[39m  (2): temperature_2m_mean (°C), precipitation_sum (mm)\n",
      "\u001b[34mdate\u001b[39m (1): time\n",
      "\n",
      "\u001b[36mℹ\u001b[39m Use `spec()` to retrieve the full column specification for this data.\n",
      "\u001b[36mℹ\u001b[39m Specify the column types or set `show_col_types = FALSE` to quiet this message.\n",
      "\u001b[1mRows: \u001b[22m\u001b[34m366\u001b[39m \u001b[1mColumns: \u001b[22m\u001b[34m3\u001b[39m\n",
      "\u001b[36m──\u001b[39m \u001b[1mColumn specification\u001b[22m \u001b[36m────────────────────────────────────────────────────────\u001b[39m\n",
      "\u001b[1mDelimiter:\u001b[22m \",\"\n",
      "\u001b[32mdbl\u001b[39m  (2): temperature_2m_mean (°C), precipitation_sum (mm)\n",
      "\u001b[34mdate\u001b[39m (1): time\n",
      "\n",
      "\u001b[36mℹ\u001b[39m Use `spec()` to retrieve the full column specification for this data.\n",
      "\u001b[36mℹ\u001b[39m Specify the column types or set `show_col_types = FALSE` to quiet this message.\n",
      "\u001b[1mRows: \u001b[22m\u001b[34m366\u001b[39m \u001b[1mColumns: \u001b[22m\u001b[34m3\u001b[39m\n",
      "\u001b[36m──\u001b[39m \u001b[1mColumn specification\u001b[22m \u001b[36m────────────────────────────────────────────────────────\u001b[39m\n",
      "\u001b[1mDelimiter:\u001b[22m \",\"\n",
      "\u001b[32mdbl\u001b[39m  (2): temperature_2m_mean (°C), precipitation_sum (mm)\n",
      "\u001b[34mdate\u001b[39m (1): time\n",
      "\n",
      "\u001b[36mℹ\u001b[39m Use `spec()` to retrieve the full column specification for this data.\n",
      "\u001b[36mℹ\u001b[39m Specify the column types or set `show_col_types = FALSE` to quiet this message.\n",
      "\u001b[1mRows: \u001b[22m\u001b[34m366\u001b[39m \u001b[1mColumns: \u001b[22m\u001b[34m3\u001b[39m\n",
      "\u001b[36m──\u001b[39m \u001b[1mColumn specification\u001b[22m \u001b[36m────────────────────────────────────────────────────────\u001b[39m\n",
      "\u001b[1mDelimiter:\u001b[22m \",\"\n",
      "\u001b[32mdbl\u001b[39m  (2): temperature_2m_mean (°C), precipitation_sum (mm)\n",
      "\u001b[34mdate\u001b[39m (1): time\n",
      "\n",
      "\u001b[36mℹ\u001b[39m Use `spec()` to retrieve the full column specification for this data.\n",
      "\u001b[36mℹ\u001b[39m Specify the column types or set `show_col_types = FALSE` to quiet this message.\n",
      "\u001b[1mRows: \u001b[22m\u001b[34m366\u001b[39m \u001b[1mColumns: \u001b[22m\u001b[34m3\u001b[39m\n",
      "\u001b[36m──\u001b[39m \u001b[1mColumn specification\u001b[22m \u001b[36m────────────────────────────────────────────────────────\u001b[39m\n",
      "\u001b[1mDelimiter:\u001b[22m \",\"\n",
      "\u001b[32mdbl\u001b[39m  (2): temperature_2m_mean (°C), precipitation_sum (mm)\n",
      "\u001b[34mdate\u001b[39m (1): time\n",
      "\n",
      "\u001b[36mℹ\u001b[39m Use `spec()` to retrieve the full column specification for this data.\n",
      "\u001b[36mℹ\u001b[39m Specify the column types or set `show_col_types = FALSE` to quiet this message.\n",
      "\u001b[1mRows: \u001b[22m\u001b[34m366\u001b[39m \u001b[1mColumns: \u001b[22m\u001b[34m3\u001b[39m\n",
      "\u001b[36m──\u001b[39m \u001b[1mColumn specification\u001b[22m \u001b[36m────────────────────────────────────────────────────────\u001b[39m\n",
      "\u001b[1mDelimiter:\u001b[22m \",\"\n",
      "\u001b[32mdbl\u001b[39m  (2): temperature_2m_mean (°C), precipitation_sum (mm)\n",
      "\u001b[34mdate\u001b[39m (1): time\n",
      "\n",
      "\u001b[36mℹ\u001b[39m Use `spec()` to retrieve the full column specification for this data.\n",
      "\u001b[36mℹ\u001b[39m Specify the column types or set `show_col_types = FALSE` to quiet this message.\n",
      "\u001b[1mRows: \u001b[22m\u001b[34m366\u001b[39m \u001b[1mColumns: \u001b[22m\u001b[34m3\u001b[39m\n",
      "\u001b[36m──\u001b[39m \u001b[1mColumn specification\u001b[22m \u001b[36m────────────────────────────────────────────────────────\u001b[39m\n",
      "\u001b[1mDelimiter:\u001b[22m \",\"\n",
      "\u001b[32mdbl\u001b[39m  (2): temperature_2m_mean (°C), precipitation_sum (mm)\n",
      "\u001b[34mdate\u001b[39m (1): time\n",
      "\n",
      "\u001b[36mℹ\u001b[39m Use `spec()` to retrieve the full column specification for this data.\n",
      "\u001b[36mℹ\u001b[39m Specify the column types or set `show_col_types = FALSE` to quiet this message.\n",
      "\u001b[1mRows: \u001b[22m\u001b[34m366\u001b[39m \u001b[1mColumns: \u001b[22m\u001b[34m3\u001b[39m\n",
      "\u001b[36m──\u001b[39m \u001b[1mColumn specification\u001b[22m \u001b[36m────────────────────────────────────────────────────────\u001b[39m\n",
      "\u001b[1mDelimiter:\u001b[22m \",\"\n",
      "\u001b[32mdbl\u001b[39m  (2): temperature_2m_mean (°C), precipitation_sum (mm)\n",
      "\u001b[34mdate\u001b[39m (1): time\n",
      "\n",
      "\u001b[36mℹ\u001b[39m Use `spec()` to retrieve the full column specification for this data.\n",
      "\u001b[36mℹ\u001b[39m Specify the column types or set `show_col_types = FALSE` to quiet this message.\n",
      "\u001b[1mRows: \u001b[22m\u001b[34m366\u001b[39m \u001b[1mColumns: \u001b[22m\u001b[34m3\u001b[39m\n",
      "\u001b[36m──\u001b[39m \u001b[1mColumn specification\u001b[22m \u001b[36m────────────────────────────────────────────────────────\u001b[39m\n",
      "\u001b[1mDelimiter:\u001b[22m \",\"\n",
      "\u001b[32mdbl\u001b[39m  (2): temperature_2m_mean (°C), precipitation_sum (mm)\n",
      "\u001b[34mdate\u001b[39m (1): time\n",
      "\n",
      "\u001b[36mℹ\u001b[39m Use `spec()` to retrieve the full column specification for this data.\n",
      "\u001b[36mℹ\u001b[39m Specify the column types or set `show_col_types = FALSE` to quiet this message.\n"
     ]
    }
   ],
   "source": [
    "# Load necessary libraries\n",
    "library(readr)\n",
    "library(dplyr)\n",
    "library(ggplot2)\n",
    "library(ggridges)\n",
    "\n",
    "# Create a list of dataframes for each city\n",
    "data <- list(\n",
    "    list(\n",
    "        label=\"A Coruña\",\n",
    "        df=read_csv(\"data/daily_A_Coruna.csv\")\n",
    "        ),\n",
    "    list(\n",
    "        label=\"Barcelona\",\n",
    "        df=read_csv(\"data/daily_Barcelona.csv\")\n",
    "        ),\n",
    "    list(\n",
    "        label=\"Bilbao\",\n",
    "        df=read_csv(\"data/daily_Bilbao.csv\")\n",
    "        ),\n",
    "    list(\n",
    "        label=\"Las Palmas de GC\",\n",
    "        df=read_csv(\"data/daily_Las_Palmas_GC.csv\")\n",
    "        ),\n",
    "    list(\n",
    "        label=\"Madrid\",\n",
    "        df=read_csv(\"data/daily_Madrid.csv\")\n",
    "        ),\n",
    "    list(\n",
    "        label=\"Palma de Mallorca\",\n",
    "        df=read_csv(\"data/daily_Palma.csv\")\n",
    "        ),\n",
    "    list(\n",
    "        label=\"Sevilla\",\n",
    "        df=read_csv(\"data/daily_Sevilla.csv\")\n",
    "        ),\n",
    "    list(\n",
    "        label=\"Valencia\",\n",
    "        df=read_csv(\"data/daily_Valencia.csv\")\n",
    "        ),\n",
    "    list(\n",
    "        label=\"Zaragoza\",\n",
    "        df=read_csv(\"data/daily_Zaragoza.csv\")\n",
    "        )\n",
    ")\n",
    "\n",
    "# Modify each df by adding a column with the city name and rename the columns\n",
    "for (i in 1:length(data)) {\n",
    "    data[[i]]$df <- data[[i]]$df %>% \n",
    "        mutate(city = data[[i]]$label) %>% \n",
    "        rename(date = time, \n",
    "               tmean = `temperature_2m_mean (°C)`, \n",
    "               prec = `precipitation_sum (mm)`\n",
    "               )\n",
    "    # Replace 0 values in precipitation with NA\n",
    "    data[[i]]$df$prec[data[[i]]$df$prec == 0] <- NA\n",
    "}\n",
    "\n",
    "# Combine all dataframes into one\n",
    "combined_data <- do.call(rbind, lapply(data, function(x) x$df))"
   ]
  },
  {
   "cell_type": "code",
   "execution_count": 2,
   "metadata": {
    "vscode": {
     "languageId": "r"
    }
   },
   "outputs": [
    {
     "name": "stderr",
     "output_type": "stream",
     "text": [
      "Picking joint bandwidth of 1.49\n",
      "\n",
      "\u001b[1m\u001b[22mSaving 7 x 7 in image\n",
      "Picking joint bandwidth of 1.49\n",
      "\n",
      "Picking joint bandwidth of 1.34\n",
      "\n"
     ]
    },
    {
     "data": {
      "image/png": "[encoded data removed]",
      "text/plain": [
       "plot without title"
      ]
     },
     "metadata": {
      "image/png": {
       "height": 420,
       "width": 420
      }
     },
     "output_type": "display_data"
    },
    {
     "name": "stderr",
     "output_type": "stream",
     "text": [
      "\u001b[1m\u001b[22mSaving 7 x 7 in image\n",
      "Picking joint bandwidth of 1.34\n",
      "\n"
     ]
    },
    {
     "data": {
      "image/png": "[encoded data removed]",
      "text/plain": [
       "plot without title"
      ]
     },
     "metadata": {
      "image/png": {
       "height": 420,
       "width": 420
      }
     },
     "output_type": "display_data"
    }
   ],
   "source": [
    "# Plot de temperatura\n",
    "ggplot(combined_data, aes(x = tmean, y = city, fill = after_stat(quantile))) +\n",
    "    geom_density_ridges_gradient(\n",
    "        scale = 2.3, \n",
    "        alpha = 0.6, \n",
    "        quantiles = c(0.05, 0.5, 0.95),\n",
    "        calc_ecdf = TRUE\n",
    "    ) +\n",
    "    scale_fill_manual(\n",
    "        name = \"Percentiles\",\n",
    "        values = c(\"#FFB3B3\", \"#FF6666\", \"#CC0000\", \"#800000\"),\n",
    "        labels = c(\"< P5%\", \"P5% - P50%\", \"P50% - P95%\", \"> P95%\")\n",
    "    ) +\n",
    "    xlab(\"Temperatura Media Diaria (°C)\") +\n",
    "    ylab(\"\") +\n",
    "    theme_minimal() +\n",
    "    scale_y_discrete(expand = c(0.2, 0.2)) +\n",
    "    theme(axis.text.y = element_text(face = \"bold\"))\n",
    "# Save the plot as a PNG file\n",
    "ggsave(\"plots/temperature_plot.png\", dpi = 300)\n",
    "\n",
    "# Plot de precipitación\n",
    "ggplot(combined_data, aes(x = prec, y = city, fill = after_stat(quantile))) +\n",
    "    geom_density_ridges_gradient(\n",
    "        scale = 2.3, \n",
    "        alpha = 0.6, \n",
    "        quantiles = c(0.05, 0.5, 0.95),\n",
    "        calc_ecdf = TRUE\n",
    "    ) +\n",
    "    scale_fill_manual(\n",
    "        name = \"Percentiles\",\n",
    "        values = c(\"#B3D9FF\", \"#66A3FF\", \"#0066CC\", \"#003366\"),\n",
    "        labels = c(\"< P5%\", \"P5% - P50%\", \"P50% - P95%\", \"> P95%\")\n",
    "    ) +\n",
    "    xlab(\"Precipitación Acumulada Diaria (mm)\") +\n",
    "    ylab(\"\") +\n",
    "    theme_minimal() +\n",
    "    scale_y_discrete(expand = c(0.2, 0.2)) +\n",
    "    theme(axis.text.y = element_text(face = \"bold\"))\n",
    "# Save the plot as a PNG file\n",
    "ggsave(\"plots/precipitation_plot.png\", dpi = 300)"
   ]
  }
 ],
 "metadata": {
  "kernelspec": {
   "display_name": "R",
   "language": "R",
   "name": "ir"
  },
  "language_info": {
   "codemirror_mode": "r",
   "file_extension": ".r",
   "mimetype": "text/x-r-source",
   "name": "R",
   "pygments_lexer": "r",
   "version": "4.4.3"
  }
 },
 "nbformat": 4,
 "nbformat_minor": 2
}
